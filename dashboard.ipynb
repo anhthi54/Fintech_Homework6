{
 "cells": [
  {
   "cell_type": "markdown",
   "metadata": {},
   "source": [
    "#### San Francisco Rental Prices Dashboard\n",
    "\n",
    "In this notebook, you will compile the visualizations from the previous analysis into functions that can be used for a Panel dashboard."
   ]
  },
  {
   "cell_type": "code",
   "execution_count": 69,
   "metadata": {},
   "outputs": [],
   "source": [
    "# imports\n",
    "import panel as pn\n",
    "pn.extension('plotly')\n",
    "import plotly.express as px\n",
    "import pandas as pd\n",
    "import hvplot.pandas\n",
    "import matplotlib.pyplot as plt\n",
    "import os\n",
    "from pathlib import Path\n",
    "from dotenv import load_dotenv"
   ]
  },
  {
   "cell_type": "code",
   "execution_count": 70,
   "metadata": {},
   "outputs": [],
   "source": [
    "# Read the Mapbox API key\n",
    "load_dotenv()\n",
    "map_box_api = os.getenv(\"mapbox\")\n",
    "px.set_mapbox_access_token(map_box_api)"
   ]
  },
  {
   "cell_type": "markdown",
   "metadata": {},
   "source": [
    "# Import Data"
   ]
  },
  {
   "cell_type": "code",
   "execution_count": 71,
   "metadata": {},
   "outputs": [],
   "source": [
    "# Import the necessary CSVs to Pandas DataFrames\n",
    "sfo_data = pd.read_csv('sfo_neighborhoods_census_data.csv', index_col=\"year\")\n",
    "neighborhood_data = pd.read_csv('neighborhoods_coordinates.csv')\n",
    "sfo_data.head()\n",
    "neighborhood_data.head()\n",
    "housing_units_mean = sfo_data.groupby('year')['housing_units'].mean()\n",
    "housing_units_mean_std = housing_units_mean.std()\n",
    "ymin = housing_units_mean.min() - housing_units_mean_std\n",
    "ymax = housing_units_mean.max() + housing_units_mean_std\n",
    "average_price_rent = sfo_data.groupby('year')[['sale_price_sqr_foot', 'gross_rent']].mean()"
   ]
  },
  {
   "cell_type": "markdown",
   "metadata": {},
   "source": [
    "- - -"
   ]
  },
  {
   "cell_type": "markdown",
   "metadata": {},
   "source": [
    "## Panel Visualizations\n",
    "\n",
    "In this section, you will copy the code for each plot type from your analysis notebook and place it into separate functions that Panel can use to create panes for the dashboard. \n",
    "\n",
    "These functions will convert the plot object to a Panel pane.\n",
    "\n",
    "Be sure to include any DataFrame transformation/manipulation code required along with the plotting code.\n",
    "\n",
    "Return a Panel pane object from each function that can be used to build the dashboard.\n",
    "\n",
    "Note: Remove any `.show()` lines from the code. We want to return the plots instead of showing them. The Panel dashboard will then display the plots."
   ]
  },
  {
   "cell_type": "code",
   "execution_count": 77,
   "metadata": {},
   "outputs": [],
   "source": [
    "\n",
    "# Define Panel Visualization Functions\n",
    "def housing_units_per_year():\n",
    "    \"\"\"Housing Units Per Year.\"\"\"\n",
    "    return housing_units_mean.hvplot.bar(\n",
    "        title='Housing Unit in San francisco from 2010 to 2016',\n",
    "        ylim=[ymin,ymax],\n",
    "        xlabel='Year',\n",
    "        ylabel='Housing Units')\n",
    "\n",
    "\n",
    "def average_gross_rent():\n",
    "    \"\"\"Average Gross Rent in San Francisco Per Year.\"\"\"\n",
    "    return average_price_rent['gross_rent'].hvplot(\n",
    "        title='Average Gross Rent by Year',\n",
    "        xlabel='Year',\n",
    "        ylabel='Average Monthly Rent')\n",
    "   \n",
    "\n",
    "def average_sales_price():\n",
    "    \"\"\"Average Sales Price Per Year.\"\"\"\n",
    "    return average_price_rent['sale_price_sqr_foot'].hvplot(\n",
    "        title='Average Price per Sqrft by Year',\n",
    "        xlabel='Year',\n",
    "        ylabel='Average price per Square Foot')\n",
    "    \n",
    "\n",
    "\n",
    "avg_price_neighborhood = sfo_data.groupby(['year','neighborhood']).mean().reset_index()\n",
    "def average_price_by_neighborhood():\n",
    "    \"\"\"Average Prices by Neighborhood.\"\"\"\n",
    "    \n",
    "    return avg_price_neighborhood.hvplot(x='year',\n",
    "                       y='sale_price_sqr_foot', \n",
    "                       xlabel='Year',\n",
    "                       ylabel='Average Sales Price per Square Foot', \n",
    "                       groupby='neighborhood')\n",
    "    \n",
    "\n",
    "\n",
    "avg_sales_neighborhood = avg_price_neighborhood.drop(columns=['year']).groupby('neighborhood').mean()\n",
    "top10_expensive_neighborhood = avg_sales_neighborhood.sort_values(\"sale_price_sqr_foot\", ascending = False).head(10)\n",
    "def top_most_expensive_neighborhoods():\n",
    "    \"\"\"Top 10 Most Expensive Neighborhoods.\"\"\"\n",
    "\n",
    "    return top10_expensive_neighborhood['sale_price_sqr_foot'].hvplot.bar(\n",
    "        label='Top 10 Expensive Neighborhoods in SFO',\n",
    "        xlabel='Neighborhood',\n",
    "        shared_axes=False,\n",
    "        ylabel='Avg. Sales Price per Square Foot', \n",
    "        rot=90)\n",
    "    \n",
    "\n",
    "\n",
    "def most_expensive_neighborhoods_rent_sales():\n",
    "    \"\"\"Comparison of Rent and Sales Prices of Most Expensive Neighborhoods.\"\"\"   \n",
    "    \n",
    "    return avg_price_neighborhood.drop(columns='housing_units').hvplot.bar(\n",
    "        x='year',\n",
    "        xlabel='Year',\n",
    "        shared_axes=False,\n",
    "        groupby='neighborhood',\n",
    "        rot=90)\n",
    "\n",
    "    \n",
    "    \n",
    "def parallel_coordinates():\n",
    "    \"\"\"Parallel Coordinates Plot.\"\"\"\n",
    "\n",
    "    return px.parallel_coordinates(\n",
    "        top10_expensive_neighborhood, \n",
    "        title='Parallel Coordinates Plot',\n",
    "        color='sale_price_sqr_foot')\n",
    "   \n",
    "\n",
    "\n",
    "def parallel_categories():\n",
    "    \"\"\"Parallel Categories Plot.\"\"\"\n",
    "    \n",
    "    return px.parallel_categories(\n",
    "        top10_expensive_neighborhood.reset_index(), \n",
    "        color='sale_price_sqr_foot',\n",
    "        title='Parallel Categories Plot')\n",
    "        \n",
    "\n",
    "\n",
    "mean_values_neighborhood=avg_sales_neighborhood.reset_index().rename(columns = {'neighborhood':'Neighborhood'})\n",
    "neighborhood_locations= pd.merge(neighborhood_data, mean_values_neighborhood, on='Neighborhood')\n",
    "def neighborhood_map():\n",
    "    \"\"\"Neighborhood Map.\"\"\"\n",
    "\n",
    "    return px.scatter_mapbox(neighborhood_locations,\n",
    "                  lat=\"Lat\",\n",
    "                  lon=\"Lon\",\n",
    "                  size='sale_price_sqr_foot', \n",
    "                  color='gross_rent',\n",
    "                  zoom=10,\n",
    "                  hover_name='Neighborhood',\n",
    "                  title='Average Sale Price per Square Foot and Gross Rent in San Francisco')\n",
    "\n",
    "\n"
   ]
  },
  {
   "cell_type": "markdown",
   "metadata": {},
   "source": [
    "## Panel Dashboard\n",
    "\n",
    "In this section, you will combine all of the plots into a single dashboard view using Panel. Be creative with your dashboard design!"
   ]
  },
  {
   "cell_type": "code",
   "execution_count": 78,
   "metadata": {},
   "outputs": [],
   "source": [
    "# Create a Title for the Dashboard\n",
    "dashboard_title = 'Real Estate Analysis of San Francisco from 2010 to 2016'\n",
    "\n",
    "\n",
    "# Create a tab layout for the dashboard\n",
    "welcome_tab = pn.Column(\n",
    "    'This dashboard presents a visual analysis of historical prices of house units, sale prices per square foot and gross rent in San Francisco, California from 2010 to 2016. You can navigate through the tabs above to explore more details about the evolution of the real estate market on The Golden City across these years',\n",
    "    neighborhood_map()\n",
    ")\n",
    "yearly_market_tab = pn.Row(housing_units_per_year(), average_gross_rent(), average_sales_price())\n",
    "neighborhood_tab = pn.Column(average_price_by_neighborhood(),top_most_expensive_neighborhoods(),most_expensive_neighborhoods_rent_sales())\n",
    "\n",
    "# Create the dashboard\n",
    "SF_dashboard = pn.Tabs(\n",
    "    (\"Welcome\", welcome_tab),\n",
    "    (\"Yearly Market Analysis\", yearly_market_tab),\n",
    "    (\"Neighborhood\", neighborhood_tab))"
   ]
  },
  {
   "cell_type": "markdown",
   "metadata": {},
   "source": [
    "## Serve the Panel Dashboard"
   ]
  },
  {
   "cell_type": "code",
   "execution_count": 79,
   "metadata": {},
   "outputs": [
    {
     "data": {},
     "metadata": {},
     "output_type": "display_data"
    },
    {
     "data": {},
     "metadata": {},
     "output_type": "display_data"
    },
    {
     "data": {
      "application/vnd.holoviews_exec.v0+json": "",
      "text/html": [
       "<div id='7053'>\n",
       "\n",
       "\n",
       "\n",
       "\n",
       "\n",
       "  <div class=\"bk-root\" id=\"6505eeb7-b2b2-4895-bb33-21dde7994e53\" data-root-id=\"7053\"></div>\n",
       "</div>\n",
       "<script type=\"application/javascript\">(function(root) {\n",
       "  function embed_document(root) {\n",
       "    var docs_json = {\"9ee4cd8f-c1d8-4913-983b-1cb39b222fa9\":{\"defs\":[{\"extends\":null,\"module\":null,\"name\":\"ReactiveHTML1\",\"overrides\":[],\"properties\":[]},{\"extends\":null,\"module\":null,\"name\":\"FlexBox1\",\"overrides\":[],\"properties\":[{\"default\":\"flex-start\",\"kind\":null,\"name\":\"align_content\"},{\"default\":\"flex-start\",\"kind\":null,\"name\":\"align_items\"},{\"default\":\"row\",\"kind\":null,\"name\":\"flex_direction\"},{\"default\":\"wrap\",\"kind\":null,\"name\":\"flex_wrap\"},{\"default\":\"flex-start\",\"kind\":null,\"name\":\"justify_content\"}]},{\"extends\":null,\"module\":null,\"name\":\"TemplateActions1\",\"overrides\":[],\"properties\":[{\"default\":0,\"kind\":null,\"name\":\"open_modal\"},{\"default\":0,\"kind\":null,\"name\":\"close_modal\"}]},{\"extends\":null,\"module\":null,\"name\":\"MaterialTemplateActions1\",\"overrides\":[],\"properties\":[{\"default\":0,\"kind\":null,\"name\":\"open_modal\"},{\"default\":0,\"kind\":null,\"name\":\"close_modal\"}]}],\"roots\":{\"references\":[{\"attributes\":{\"axis\":{\"id\":\"7207\"},\"grid_line_color\":null,\"ticker\":null},\"id\":\"7210\",\"type\":\"Grid\"},{\"attributes\":{\"bottom\":{\"value\":0},\"fill_alpha\":{\"value\":1.0},\"fill_color\":{\"value\":\"#30a2da\"},\"hatch_alpha\":{\"value\":1.0},\"hatch_color\":{\"value\":\"black\"},\"hatch_scale\":{\"value\":12.0},\"hatch_weight\":{\"value\":1.0},\"line_alpha\":{\"value\":1.0},\"line_cap\":{\"value\":\"butt\"},\"line_color\":{\"value\":\"black\"},\"line_dash\":{\"value\":[]},\"line_dash_offset\":{\"value\":0},\"line_join\":{\"value\":\"bevel\"},\"line_width\":{\"value\":1},\"top\":{\"field\":\"housing_units\"},\"width\":{\"value\":0.8},\"x\":{\"field\":\"year\"}},\"id\":\"7100\",\"type\":\"VBar\"},{\"attributes\":{\"source\":{\"id\":\"7299\"}},\"id\":\"7306\",\"type\":\"CDSView\"},{\"attributes\":{\"callback\":null,\"renderers\":[{\"id\":\"7098\"}],\"tags\":[\"hv_created\"],\"tooltips\":[[\"year\",\"@{year}\"],[\"housing_units\",\"@{housing_units}\"]]},\"id\":\"7062\",\"type\":\"HoverTool\"},{\"attributes\":{},\"id\":\"7205\",\"type\":\"LinearScale\"},{\"attributes\":{\"axis_label\":\"Year\",\"formatter\":{\"id\":\"7239\"},\"major_label_policy\":{\"id\":\"7238\"},\"ticker\":{\"id\":\"7208\"}},\"id\":\"7207\",\"type\":\"LinearAxis\"},{\"attributes\":{},\"id\":\"7208\",\"type\":\"BasicTicker\"},{\"attributes\":{\"text\":\"Housing Unit in San francisco from 2010 to 2016\",\"text_color\":\"black\",\"text_font_size\":\"12pt\"},\"id\":\"7064\",\"type\":\"Title\"},{\"attributes\":{},\"id\":\"7216\",\"type\":\"PanTool\"},{\"attributes\":{\"line_color\":\"#30a2da\",\"line_width\":2,\"x\":{\"field\":\"year\"},\"y\":{\"field\":\"sale_price_sqr_foot\"}},\"id\":\"7307\",\"type\":\"Line\"},{\"attributes\":{\"axis_label\":\"Average price per Square Foot\",\"formatter\":{\"id\":\"7242\"},\"major_label_policy\":{\"id\":\"7241\"},\"ticker\":{\"id\":\"7212\"}},\"id\":\"7211\",\"type\":\"LinearAxis\"},{\"attributes\":{},\"id\":\"7101\",\"type\":\"AllLabels\"},{\"attributes\":{\"children\":[{\"id\":\"7342\"}],\"css_classes\":[\"panel-widget-box\"],\"margin\":[5,5,5,5],\"name\":\"WidgetBox08667\"},\"id\":\"7341\",\"type\":\"Column\"},{\"attributes\":{\"axis\":{\"id\":\"7211\"},\"dimension\":1,\"grid_line_color\":null,\"ticker\":null},\"id\":\"7214\",\"type\":\"Grid\"},{\"attributes\":{},\"id\":\"7073\",\"type\":\"CategoricalTicker\"},{\"attributes\":{},\"id\":\"7212\",\"type\":\"BasicTicker\"},{\"attributes\":{\"margin\":[20,20,20,20],\"min_width\":250,\"options\":[\"Alamo Square\",\"Anza Vista\",\"Bayview\",\"Buena Vista Park\",\"Central Richmond\",\"Central Sunset\",\"Corona Heights\",\"Cow Hollow\",\"Croker Amazon\",\"Diamond Heights\",\"Downtown \",\"Eureka Valley/Dolores Heights\",\"Excelsior\",\"Financial District North\",\"Financial District South\",\"Forest Knolls\",\"Glen Park\",\"Golden Gate Heights\",\"Haight Ashbury\",\"Hayes Valley\",\"Hunters Point\",\"Ingleside \",\"Inner Mission\",\"Inner Parkside\",\"Inner Richmond\",\"Inner Sunset\",\"Jordan Park/Laurel Heights\",\"Lake --The Presidio\",\"Lone Mountain\",\"Lower Pacific Heights\",\"Marina\",\"Miraloma Park\",\"Mission Bay\",\"Mission Dolores\",\"Mission Terrace\",\"Nob Hill\",\"Noe Valley\",\"Oceanview\",\"Outer Parkside\",\"Outer Richmond \",\"Outer Sunset\",\"Pacific Heights\",\"Park North\",\"Parkside\",\"Parnassus/Ashbury Heights\",\"Portola\",\"Potrero Hill\",\"Presidio Heights\",\"Russian Hill\",\"South Beach\",\"South of Market\",\"Sunnyside\",\"Telegraph Hill\",\"Twin Peaks\",\"Union Square District\",\"Van Ness/ Civic Center\",\"West Portal\",\"Western Addition\",\"Yerba Buena\",\"Bernal Heights \",\"Clarendon Heights\",\"Duboce Triangle\",\"Ingleside Heights\",\"North Beach\",\"North Waterfront\",\"Outer Mission\",\"Westwood Highlands\",\"Merced Heights\",\"Midtown Terrace\",\"Visitacion Valley\",\"Silver Terrace\",\"Westwood Park\",\"Bayview Heights\"],\"title\":\"neighborhood\",\"value\":\"Alamo Square\",\"width\":250},\"id\":\"7488\",\"type\":\"Select\"},{\"attributes\":{\"end\":388448.0007132667,\"reset_end\":388448.0007132667,\"reset_start\":368353.9992867333,\"start\":368353.9992867333,\"tags\":[[[\"housing_units\",\"housing_units\",null]]]},\"id\":\"7061\",\"type\":\"Range1d\"},{\"attributes\":{},\"id\":\"7102\",\"type\":\"CategoricalTickFormatter\"},{\"attributes\":{},\"id\":\"7217\",\"type\":\"WheelZoomTool\"},{\"attributes\":{},\"id\":\"7309\",\"type\":\"AllLabels\"},{\"attributes\":{},\"id\":\"7215\",\"type\":\"SaveTool\"},{\"attributes\":{\"end\":4810.690068306854,\"reset_end\":4810.690068306854,\"reset_start\":0.0,\"tags\":[[[\"value\",\"value\",null]]]},\"id\":\"7413\",\"type\":\"Range1d\"},{\"attributes\":{},\"id\":\"7183\",\"type\":\"UnionRenderers\"},{\"attributes\":{},\"id\":\"7068\",\"type\":\"CategoricalScale\"},{\"attributes\":{},\"id\":\"7105\",\"type\":\"AllLabels\"},{\"attributes\":{\"line_alpha\":0.1,\"line_color\":\"#30a2da\",\"line_width\":2,\"x\":{\"field\":\"year\"},\"y\":{\"field\":\"gross_rent\"}},\"id\":\"7164\",\"type\":\"Line\"},{\"attributes\":{\"below\":[{\"id\":\"7072\"}],\"center\":[{\"id\":\"7074\"},{\"id\":\"7078\"}],\"height\":300,\"left\":[{\"id\":\"7075\"}],\"margin\":[5,5,5,5],\"min_border_bottom\":10,\"min_border_left\":10,\"min_border_right\":10,\"min_border_top\":10,\"renderers\":[{\"id\":\"7098\"}],\"sizing_mode\":\"fixed\",\"title\":{\"id\":\"7064\"},\"toolbar\":{\"id\":\"7085\"},\"width\":700,\"x_range\":{\"id\":\"7060\"},\"x_scale\":{\"id\":\"7068\"},\"y_range\":{\"id\":\"7061\"},\"y_scale\":{\"id\":\"7070\"}},\"id\":\"7063\",\"subtype\":\"Figure\",\"type\":\"Plot\"},{\"attributes\":{\"line_color\":\"#30a2da\",\"line_width\":2,\"x\":{\"field\":\"year\"},\"y\":{\"field\":\"gross_rent\"}},\"id\":\"7163\",\"type\":\"Line\"},{\"attributes\":{\"overlay\":{\"id\":\"7220\"}},\"id\":\"7218\",\"type\":\"BoxZoomTool\"},{\"attributes\":{\"fill_color\":{\"value\":\"#30a2da\"},\"top\":{\"field\":\"housing_units\"},\"width\":{\"value\":0.8},\"x\":{\"field\":\"year\"}},\"id\":\"7095\",\"type\":\"VBar\"},{\"attributes\":{},\"id\":\"7219\",\"type\":\"ResetTool\"},{\"attributes\":{},\"id\":\"7312\",\"type\":\"AllLabels\"},{\"attributes\":{\"axis\":{\"id\":\"7072\"},\"grid_line_color\":null,\"ticker\":null},\"id\":\"7074\",\"type\":\"Grid\"},{\"attributes\":{},\"id\":\"7106\",\"type\":\"BasicTickFormatter\"},{\"attributes\":{\"text\":\"neighborhood: Alamo Square\",\"text_color\":\"black\",\"text_font_size\":\"12pt\"},\"id\":\"7416\",\"type\":\"Title\"},{\"attributes\":{\"data_source\":{\"id\":\"7160\"},\"glyph\":{\"id\":\"7163\"},\"hover_glyph\":null,\"muted_glyph\":{\"id\":\"7165\"},\"nonselection_glyph\":{\"id\":\"7164\"},\"selection_glyph\":{\"id\":\"7168\"},\"view\":{\"id\":\"7167\"}},\"id\":\"7166\",\"type\":\"GlyphRenderer\"},{\"attributes\":{},\"id\":\"7161\",\"type\":\"Selection\"},{\"attributes\":{},\"id\":\"7070\",\"type\":\"LinearScale\"},{\"attributes\":{\"text\":\"Average Gross Rent by Year\",\"text_color\":\"black\",\"text_font_size\":\"12pt\"},\"id\":\"7131\",\"type\":\"Title\"},{\"attributes\":{\"text\":\"Top 10 Expensive Neighborhoods in SFO\",\"text_color\":\"black\",\"text_font_size\":\"12pt\"},\"id\":\"7348\",\"type\":\"Title\"},{\"attributes\":{\"axis\":{\"id\":\"7075\"},\"dimension\":1,\"grid_line_color\":null,\"ticker\":null},\"id\":\"7078\",\"type\":\"Grid\"},{\"attributes\":{\"factors\":[[\"2010\",\"gross_rent\"],[\"2010\",\"sale_price_sqr_foot\"],[\"2011\",\"gross_rent\"],[\"2011\",\"sale_price_sqr_foot\"],[\"2012\",\"gross_rent\"],[\"2012\",\"sale_price_sqr_foot\"],[\"2013\",\"gross_rent\"],[\"2013\",\"sale_price_sqr_foot\"],[\"2014\",\"gross_rent\"],[\"2014\",\"sale_price_sqr_foot\"],[\"2015\",\"gross_rent\"],[\"2015\",\"sale_price_sqr_foot\"],[\"2016\",\"gross_rent\"],[\"2016\",\"sale_price_sqr_foot\"]],\"tags\":[[[\"year\",\"year\",null],[\"Variable\",\"Variable\",null]]]},\"id\":\"7412\",\"type\":\"FactorRange\"},{\"attributes\":{},\"id\":\"7080\",\"type\":\"PanTool\"},{\"attributes\":{\"callback\":null,\"renderers\":[{\"id\":\"7451\"}],\"tags\":[\"hv_created\"],\"tooltips\":[[\"year\",\"@{year}\"],[\"Variable\",\"@{Variable}\"],[\"value\",\"@{value}\"]]},\"id\":\"7414\",\"type\":\"HoverTool\"},{\"attributes\":{\"axis_label\":\"Year\",\"formatter\":{\"id\":\"7102\"},\"major_label_policy\":{\"id\":\"7101\"},\"ticker\":{\"id\":\"7073\"}},\"id\":\"7072\",\"type\":\"CategoricalAxis\"},{\"attributes\":{\"axis\":{\"id\":\"7424\"},\"grid_line_color\":null,\"ticker\":null},\"id\":\"7426\",\"type\":\"Grid\"},{\"attributes\":{\"line_alpha\":0.2,\"line_color\":\"#30a2da\",\"line_width\":2,\"x\":{\"field\":\"year\"},\"y\":{\"field\":\"gross_rent\"}},\"id\":\"7165\",\"type\":\"Line\"},{\"attributes\":{\"axis_label\":\"Housing Units\",\"formatter\":{\"id\":\"7106\"},\"major_label_policy\":{\"id\":\"7105\"},\"ticker\":{\"id\":\"7076\"}},\"id\":\"7075\",\"type\":\"LinearAxis\"},{\"attributes\":{\"line_color\":\"#30a2da\",\"line_width\":2,\"x\":{\"field\":\"year\"},\"y\":{\"field\":\"gross_rent\"}},\"id\":\"7168\",\"type\":\"Line\"},{\"attributes\":{},\"id\":\"7313\",\"type\":\"BasicTickFormatter\"},{\"attributes\":{},\"id\":\"7076\",\"type\":\"BasicTicker\"},{\"attributes\":{\"source\":{\"id\":\"7160\"}},\"id\":\"7167\",\"type\":\"CDSView\"},{\"attributes\":{\"data\":{\"gross_rent\":[1239,1530,2324,2971,3528,3739,4390],\"year\":[2010,2011,2012,2013,2014,2015,2016]},\"selected\":{\"id\":\"7161\"},\"selection_policy\":{\"id\":\"7183\"}},\"id\":\"7160\",\"type\":\"ColumnDataSource\"},{\"attributes\":{},\"id\":\"7081\",\"type\":\"WheelZoomTool\"},{\"attributes\":{},\"id\":\"7251\",\"type\":\"UnionRenderers\"},{\"attributes\":{},\"id\":\"7425\",\"type\":\"CategoricalTicker\"},{\"attributes\":{\"margin\":[5,5,5,5],\"name\":\"VSpacer08672\",\"sizing_mode\":\"stretch_height\"},\"id\":\"7343\",\"type\":\"Spacer\"},{\"attributes\":{\"child\":{\"id\":\"7264\"},\"name\":\"Column08688\",\"title\":\"Neighborhood\"},\"id\":\"7490\",\"type\":\"Panel\"},{\"attributes\":{},\"id\":\"7079\",\"type\":\"SaveTool\"},{\"attributes\":{\"overlay\":{\"id\":\"7084\"}},\"id\":\"7082\",\"type\":\"BoxZoomTool\"},{\"attributes\":{\"bottom_units\":\"screen\",\"fill_alpha\":0.5,\"fill_color\":\"lightgrey\",\"left_units\":\"screen\",\"level\":\"overlay\",\"line_alpha\":1.0,\"line_color\":\"black\",\"line_dash\":[4,4],\"line_width\":2,\"right_units\":\"screen\",\"syncable\":false,\"top_units\":\"screen\"},\"id\":\"7220\",\"type\":\"BoxAnnotation\"},{\"attributes\":{},\"id\":\"7083\",\"type\":\"ResetTool\"},{\"attributes\":{},\"id\":\"7148\",\"type\":\"PanTool\"},{\"attributes\":{\"end\":2016.0,\"reset_end\":2016.0,\"reset_start\":2010.0,\"start\":2010.0,\"tags\":[[[\"year\",\"year\",null]]]},\"id\":\"7127\",\"type\":\"Range1d\"},{\"attributes\":{},\"id\":\"7420\",\"type\":\"CategoricalScale\"},{\"attributes\":{\"below\":[{\"id\":\"7424\"}],\"center\":[{\"id\":\"7426\"},{\"id\":\"7430\"}],\"height\":300,\"left\":[{\"id\":\"7427\"}],\"margin\":[5,5,5,5],\"min_border_bottom\":10,\"min_border_left\":10,\"min_border_right\":10,\"min_border_top\":10,\"renderers\":[{\"id\":\"7451\"}],\"sizing_mode\":\"fixed\",\"title\":{\"id\":\"7416\"},\"toolbar\":{\"id\":\"7437\"},\"width\":700,\"x_range\":{\"id\":\"7412\"},\"x_scale\":{\"id\":\"7420\"},\"y_range\":{\"id\":\"7413\"},\"y_scale\":{\"id\":\"7422\"}},\"id\":\"7415\",\"subtype\":\"Figure\",\"type\":\"Plot\"},{\"attributes\":{},\"id\":\"7170\",\"type\":\"AllLabels\"},{\"attributes\":{\"margin\":[20,20,20,20],\"min_width\":250,\"options\":[\"Alamo Square\",\"Anza Vista\",\"Bayview\",\"Buena Vista Park\",\"Central Richmond\",\"Central Sunset\",\"Corona Heights\",\"Cow Hollow\",\"Croker Amazon\",\"Diamond Heights\",\"Downtown \",\"Eureka Valley/Dolores Heights\",\"Excelsior\",\"Financial District North\",\"Financial District South\",\"Forest Knolls\",\"Glen Park\",\"Golden Gate Heights\",\"Haight Ashbury\",\"Hayes Valley\",\"Hunters Point\",\"Ingleside \",\"Inner Mission\",\"Inner Parkside\",\"Inner Richmond\",\"Inner Sunset\",\"Jordan Park/Laurel Heights\",\"Lake --The Presidio\",\"Lone Mountain\",\"Lower Pacific Heights\",\"Marina\",\"Miraloma Park\",\"Mission Bay\",\"Mission Dolores\",\"Mission Terrace\",\"Nob Hill\",\"Noe Valley\",\"Oceanview\",\"Outer Parkside\",\"Outer Richmond \",\"Outer Sunset\",\"Pacific Heights\",\"Park North\",\"Parkside\",\"Parnassus/Ashbury Heights\",\"Portola\",\"Potrero Hill\",\"Presidio Heights\",\"Russian Hill\",\"South Beach\",\"South of Market\",\"Sunnyside\",\"Telegraph Hill\",\"Twin Peaks\",\"Union Square District\",\"Van Ness/ Civic Center\",\"West Portal\",\"Western Addition\",\"Yerba Buena\",\"Bernal Heights \",\"Clarendon Heights\",\"Duboce Triangle\",\"Ingleside Heights\",\"North Beach\",\"North Waterfront\",\"Outer Mission\",\"Westwood Highlands\",\"Merced Heights\",\"Midtown Terrace\",\"Visitacion Valley\",\"Silver Terrace\",\"Westwood Park\",\"Bayview Heights\"],\"title\":\"neighborhood\",\"value\":\"Alamo Square\",\"width\":250},\"id\":\"7342\",\"type\":\"Select\"},{\"attributes\":{\"args\":{\"model\":{\"id\":\"7057\"}},\"code\":\"model.visible = (cb_obj.active == 0);\",\"tags\":[\"plotly_tab_fix7057\"]},\"id\":\"7803\",\"type\":\"CustomJS\"},{\"attributes\":{},\"id\":\"7135\",\"type\":\"LinearScale\"},{\"attributes\":{\"active_multi\":null,\"tools\":[{\"id\":\"7414\"},{\"id\":\"7431\"},{\"id\":\"7432\"},{\"id\":\"7433\"},{\"id\":\"7434\"},{\"id\":\"7435\"}]},\"id\":\"7437\",\"type\":\"Toolbar\"},{\"attributes\":{\"data\":[{\"hovertemplate\":\"<b>%{hovertext}</b><br><br>sale_price_sqr_foot=%{marker.size}<br>Lat=%{lat}<br>Lon=%{lon}<br>gross_rent=%{marker.color}<extra></extra>\",\"legendgroup\":\"\",\"marker\":{\"coloraxis\":\"coloraxis\",\"sizemode\":\"area\",\"sizeref\":2.259983144180161},\"mode\":\"markers\",\"name\":\"\",\"showlegend\":false,\"subplot\":\"mapbox\",\"type\":\"scattermapbox\"}],\"data_sources\":[{\"id\":\"7056\"}],\"layout\":{\"coloraxis\":{\"colorbar\":{\"title\":{\"text\":\"gross_rent\"}},\"colorscale\":[[0.0,\"#0d0887\"],[0.1111111111111111,\"#46039f\"],[0.2222222222222222,\"#7201a8\"],[0.3333333333333333,\"#9c179e\"],[0.4444444444444444,\"#bd3786\"],[0.5555555555555556,\"#d8576b\"],[0.6666666666666666,\"#ed7953\"],[0.7777777777777778,\"#fb9f3a\"],[0.8888888888888888,\"#fdca26\"],[1.0,\"#f0f921\"]]},\"legend\":{\"itemsizing\":\"constant\",\"tracegroupgap\":0},\"mapbox\":{\"accesstoken\":\"pk.eyJ1IjoiYW5odGhpNTQiLCJhIjoiY2t0anoxeWgwMG41YjJvbzBnemxkYjFtbCJ9.liVVBGg58Twqe5J6CkacfA\",\"center\":{\"lat\":37.76064079710145,\"lon\":-122.43826449275363},\"domain\":{\"x\":[0.0,1.0],\"y\":[0.0,1.0]},\"zoom\":10},\"template\":{\"data\":{\"bar\":[{\"error_x\":{\"color\":\"#2a3f5f\"},\"error_y\":{\"color\":\"#2a3f5f\"},\"marker\":{\"line\":{\"color\":\"#E5ECF6\",\"width\":0.5},\"pattern\":{\"fillmode\":\"overlay\",\"size\":10,\"solidity\":0.2}},\"type\":\"bar\"}],\"barpolar\":[{\"marker\":{\"line\":{\"color\":\"#E5ECF6\",\"width\":0.5},\"pattern\":{\"fillmode\":\"overlay\",\"size\":10,\"solidity\":0.2}},\"type\":\"barpolar\"}],\"carpet\":[{\"aaxis\":{\"endlinecolor\":\"#2a3f5f\",\"gridcolor\":\"white\",\"linecolor\":\"white\",\"minorgridcolor\":\"white\",\"startlinecolor\":\"#2a3f5f\"},\"baxis\":{\"endlinecolor\":\"#2a3f5f\",\"gridcolor\":\"white\",\"linecolor\":\"white\",\"minorgridcolor\":\"white\",\"startlinecolor\":\"#2a3f5f\"},\"type\":\"carpet\"}],\"choropleth\":[{\"colorbar\":{\"outlinewidth\":0,\"ticks\":\"\"},\"type\":\"choropleth\"}],\"contour\":[{\"colorbar\":{\"outlinewidth\":0,\"ticks\":\"\"},\"colorscale\":[[0.0,\"#0d0887\"],[0.1111111111111111,\"#46039f\"],[0.2222222222222222,\"#7201a8\"],[0.3333333333333333,\"#9c179e\"],[0.4444444444444444,\"#bd3786\"],[0.5555555555555556,\"#d8576b\"],[0.6666666666666666,\"#ed7953\"],[0.7777777777777778,\"#fb9f3a\"],[0.8888888888888888,\"#fdca26\"],[1.0,\"#f0f921\"]],\"type\":\"contour\"}],\"contourcarpet\":[{\"colorbar\":{\"outlinewidth\":0,\"ticks\":\"\"},\"type\":\"contourcarpet\"}],\"heatmap\":[{\"colorbar\":{\"outlinewidth\":0,\"ticks\":\"\"},\"colorscale\":[[0.0,\"#0d0887\"],[0.1111111111111111,\"#46039f\"],[0.2222222222222222,\"#7201a8\"],[0.3333333333333333,\"#9c179e\"],[0.4444444444444444,\"#bd3786\"],[0.5555555555555556,\"#d8576b\"],[0.6666666666666666,\"#ed7953\"],[0.7777777777777778,\"#fb9f3a\"],[0.8888888888888888,\"#fdca26\"],[1.0,\"#f0f921\"]],\"type\":\"heatmap\"}],\"heatmapgl\":[{\"colorbar\":{\"outlinewidth\":0,\"ticks\":\"\"},\"colorscale\":[[0.0,\"#0d0887\"],[0.1111111111111111,\"#46039f\"],[0.2222222222222222,\"#7201a8\"],[0.3333333333333333,\"#9c179e\"],[0.4444444444444444,\"#bd3786\"],[0.5555555555555556,\"#d8576b\"],[0.6666666666666666,\"#ed7953\"],[0.7777777777777778,\"#fb9f3a\"],[0.8888888888888888,\"#fdca26\"],[1.0,\"#f0f921\"]],\"type\":\"heatmapgl\"}],\"histogram\":[{\"marker\":{\"pattern\":{\"fillmode\":\"overlay\",\"size\":10,\"solidity\":0.2}},\"type\":\"histogram\"}],\"histogram2d\":[{\"colorbar\":{\"outlinewidth\":0,\"ticks\":\"\"},\"colorscale\":[[0.0,\"#0d0887\"],[0.1111111111111111,\"#46039f\"],[0.2222222222222222,\"#7201a8\"],[0.3333333333333333,\"#9c179e\"],[0.4444444444444444,\"#bd3786\"],[0.5555555555555556,\"#d8576b\"],[0.6666666666666666,\"#ed7953\"],[0.7777777777777778,\"#fb9f3a\"],[0.8888888888888888,\"#fdca26\"],[1.0,\"#f0f921\"]],\"type\":\"histogram2d\"}],\"histogram2dcontour\":[{\"colorbar\":{\"outlinewidth\":0,\"ticks\":\"\"},\"colorscale\":[[0.0,\"#0d0887\"],[0.1111111111111111,\"#46039f\"],[0.2222222222222222,\"#7201a8\"],[0.3333333333333333,\"#9c179e\"],[0.4444444444444444,\"#bd3786\"],[0.5555555555555556,\"#d8576b\"],[0.6666666666666666,\"#ed7953\"],[0.7777777777777778,\"#fb9f3a\"],[0.8888888888888888,\"#fdca26\"],[1.0,\"#f0f921\"]],\"type\":\"histogram2dcontour\"}],\"mesh3d\":[{\"colorbar\":{\"outlinewidth\":0,\"ticks\":\"\"},\"type\":\"mesh3d\"}],\"parcoords\":[{\"line\":{\"colorbar\":{\"outlinewidth\":0,\"ticks\":\"\"}},\"type\":\"parcoords\"}],\"pie\":[{\"automargin\":true,\"type\":\"pie\"}],\"scatter\":[{\"marker\":{\"colorbar\":{\"outlinewidth\":0,\"ticks\":\"\"}},\"type\":\"scatter\"}],\"scatter3d\":[{\"line\":{\"colorbar\":{\"outlinewidth\":0,\"ticks\":\"\"}},\"marker\":{\"colorbar\":{\"outlinewidth\":0,\"ticks\":\"\"}},\"type\":\"scatter3d\"}],\"scattercarpet\":[{\"marker\":{\"colorbar\":{\"outlinewidth\":0,\"ticks\":\"\"}},\"type\":\"scattercarpet\"}],\"scattergeo\":[{\"marker\":{\"colorbar\":{\"outlinewidth\":0,\"ticks\":\"\"}},\"type\":\"scattergeo\"}],\"scattergl\":[{\"marker\":{\"colorbar\":{\"outlinewidth\":0,\"ticks\":\"\"}},\"type\":\"scattergl\"}],\"scattermapbox\":[{\"marker\":{\"colorbar\":{\"outlinewidth\":0,\"ticks\":\"\"}},\"type\":\"scattermapbox\"}],\"scatterpolar\":[{\"marker\":{\"colorbar\":{\"outlinewidth\":0,\"ticks\":\"\"}},\"type\":\"scatterpolar\"}],\"scatterpolargl\":[{\"marker\":{\"colorbar\":{\"outlinewidth\":0,\"ticks\":\"\"}},\"type\":\"scatterpolargl\"}],\"scatterternary\":[{\"marker\":{\"colorbar\":{\"outlinewidth\":0,\"ticks\":\"\"}},\"type\":\"scatterternary\"}],\"surface\":[{\"colorbar\":{\"outlinewidth\":0,\"ticks\":\"\"},\"colorscale\":[[0.0,\"#0d0887\"],[0.1111111111111111,\"#46039f\"],[0.2222222222222222,\"#7201a8\"],[0.3333333333333333,\"#9c179e\"],[0.4444444444444444,\"#bd3786\"],[0.5555555555555556,\"#d8576b\"],[0.6666666666666666,\"#ed7953\"],[0.7777777777777778,\"#fb9f3a\"],[0.8888888888888888,\"#fdca26\"],[1.0,\"#f0f921\"]],\"type\":\"surface\"}],\"table\":[{\"cells\":{\"fill\":{\"color\":\"#EBF0F8\"},\"line\":{\"color\":\"white\"}},\"header\":{\"fill\":{\"color\":\"#C8D4E3\"},\"line\":{\"color\":\"white\"}},\"type\":\"table\"}]},\"layout\":{\"annotationdefaults\":{\"arrowcolor\":\"#2a3f5f\",\"arrowhead\":0,\"arrowwidth\":1},\"autotypenumbers\":\"strict\",\"coloraxis\":{\"colorbar\":{\"outlinewidth\":0,\"ticks\":\"\"}},\"colorscale\":{\"diverging\":[[0,\"#8e0152\"],[0.1,\"#c51b7d\"],[0.2,\"#de77ae\"],[0.3,\"#f1b6da\"],[0.4,\"#fde0ef\"],[0.5,\"#f7f7f7\"],[0.6,\"#e6f5d0\"],[0.7,\"#b8e186\"],[0.8,\"#7fbc41\"],[0.9,\"#4d9221\"],[1,\"#276419\"]],\"sequential\":[[0.0,\"#0d0887\"],[0.1111111111111111,\"#46039f\"],[0.2222222222222222,\"#7201a8\"],[0.3333333333333333,\"#9c179e\"],[0.4444444444444444,\"#bd3786\"],[0.5555555555555556,\"#d8576b\"],[0.6666666666666666,\"#ed7953\"],[0.7777777777777778,\"#fb9f3a\"],[0.8888888888888888,\"#fdca26\"],[1.0,\"#f0f921\"]],\"sequentialminus\":[[0.0,\"#0d0887\"],[0.1111111111111111,\"#46039f\"],[0.2222222222222222,\"#7201a8\"],[0.3333333333333333,\"#9c179e\"],[0.4444444444444444,\"#bd3786\"],[0.5555555555555556,\"#d8576b\"],[0.6666666666666666,\"#ed7953\"],[0.7777777777777778,\"#fb9f3a\"],[0.8888888888888888,\"#fdca26\"],[1.0,\"#f0f921\"]]},\"colorway\":[\"#636efa\",\"#EF553B\",\"#00cc96\",\"#ab63fa\",\"#FFA15A\",\"#19d3f3\",\"#FF6692\",\"#B6E880\",\"#FF97FF\",\"#FECB52\"],\"font\":{\"color\":\"#2a3f5f\"},\"geo\":{\"bgcolor\":\"white\",\"lakecolor\":\"white\",\"landcolor\":\"#E5ECF6\",\"showlakes\":true,\"showland\":true,\"subunitcolor\":\"white\"},\"hoverlabel\":{\"align\":\"left\"},\"hovermode\":\"closest\",\"mapbox\":{\"style\":\"light\"},\"paper_bgcolor\":\"white\",\"plot_bgcolor\":\"#E5ECF6\",\"polar\":{\"angularaxis\":{\"gridcolor\":\"white\",\"linecolor\":\"white\",\"ticks\":\"\"},\"bgcolor\":\"#E5ECF6\",\"radialaxis\":{\"gridcolor\":\"white\",\"linecolor\":\"white\",\"ticks\":\"\"}},\"scene\":{\"xaxis\":{\"backgroundcolor\":\"#E5ECF6\",\"gridcolor\":\"white\",\"gridwidth\":2,\"linecolor\":\"white\",\"showbackground\":true,\"ticks\":\"\",\"zerolinecolor\":\"white\"},\"yaxis\":{\"backgroundcolor\":\"#E5ECF6\",\"gridcolor\":\"white\",\"gridwidth\":2,\"linecolor\":\"white\",\"showbackground\":true,\"ticks\":\"\",\"zerolinecolor\":\"white\"},\"zaxis\":{\"backgroundcolor\":\"#E5ECF6\",\"gridcolor\":\"white\",\"gridwidth\":2,\"linecolor\":\"white\",\"showbackground\":true,\"ticks\":\"\",\"zerolinecolor\":\"white\"}},\"shapedefaults\":{\"line\":{\"color\":\"#2a3f5f\"}},\"ternary\":{\"aaxis\":{\"gridcolor\":\"white\",\"linecolor\":\"white\",\"ticks\":\"\"},\"baxis\":{\"gridcolor\":\"white\",\"linecolor\":\"white\",\"ticks\":\"\"},\"bgcolor\":\"#E5ECF6\",\"caxis\":{\"gridcolor\":\"white\",\"linecolor\":\"white\",\"ticks\":\"\"}},\"title\":{\"x\":0.05},\"xaxis\":{\"automargin\":true,\"gridcolor\":\"white\",\"linecolor\":\"white\",\"ticks\":\"\",\"title\":{\"standoff\":15},\"zerolinecolor\":\"white\",\"zerolinewidth\":2},\"yaxis\":{\"automargin\":true,\"gridcolor\":\"white\",\"linecolor\":\"white\",\"ticks\":\"\",\"title\":{\"standoff\":15},\"zerolinecolor\":\"white\",\"zerolinewidth\":2}}},\"title\":{\"text\":\"Average Sale Price per Square Foot and Gross Rent in San Francisco\"}},\"margin\":[5,5,5,5],\"name\":\"Plotly08307\",\"viewport_update_throttle\":200},\"id\":\"7057\",\"type\":\"panel.models.plotly.PlotlyPlot\"},{\"attributes\":{\"callback\":null,\"renderers\":[{\"id\":\"7166\"}],\"tags\":[\"hv_created\"],\"tooltips\":[[\"year\",\"@{year}\"],[\"gross_rent\",\"@{gross_rent}\"]]},\"id\":\"7129\",\"type\":\"HoverTool\"},{\"attributes\":{},\"id\":\"7173\",\"type\":\"AllLabels\"},{\"attributes\":{},\"id\":\"7422\",\"type\":\"LinearScale\"},{\"attributes\":{\"end\":4705.1,\"reset_end\":4705.1,\"reset_start\":923.9,\"start\":923.9,\"tags\":[[[\"gross_rent\",\"gross_rent\",null]]]},\"id\":\"7128\",\"type\":\"Range1d\"},{\"attributes\":{},\"id\":\"7171\",\"type\":\"BasicTickFormatter\"},{\"attributes\":{\"axis\":{\"id\":\"7427\"},\"dimension\":1,\"grid_line_color\":null,\"ticker\":null},\"id\":\"7430\",\"type\":\"Grid\"},{\"attributes\":{},\"id\":\"7140\",\"type\":\"BasicTicker\"},{\"attributes\":{},\"id\":\"7432\",\"type\":\"PanTool\"},{\"attributes\":{\"axis_label\":\"Year\",\"formatter\":{\"id\":\"7455\"},\"major_label_orientation\":1.5707963267948966,\"major_label_policy\":{\"id\":\"7454\"},\"ticker\":{\"id\":\"7425\"}},\"id\":\"7424\",\"type\":\"CategoricalAxis\"},{\"attributes\":{\"child\":{\"id\":\"7059\"},\"name\":\"Row08544\",\"title\":\"Yearly Market Analysis\"},\"id\":\"7263\",\"type\":\"Panel\"},{\"attributes\":{},\"id\":\"7137\",\"type\":\"LinearScale\"},{\"attributes\":{\"below\":[{\"id\":\"7139\"}],\"center\":[{\"id\":\"7142\"},{\"id\":\"7146\"}],\"height\":300,\"left\":[{\"id\":\"7143\"}],\"margin\":[5,5,5,5],\"min_border_bottom\":10,\"min_border_left\":10,\"min_border_right\":10,\"min_border_top\":10,\"renderers\":[{\"id\":\"7166\"}],\"sizing_mode\":\"fixed\",\"title\":{\"id\":\"7131\"},\"toolbar\":{\"id\":\"7153\"},\"width\":700,\"x_range\":{\"id\":\"7127\"},\"x_scale\":{\"id\":\"7135\"},\"y_range\":{\"id\":\"7128\"},\"y_scale\":{\"id\":\"7137\"}},\"id\":\"7130\",\"subtype\":\"Figure\",\"type\":\"Plot\"},{\"attributes\":{\"axis_label\":\"\",\"formatter\":{\"id\":\"7459\"},\"major_label_policy\":{\"id\":\"7458\"},\"ticker\":{\"id\":\"7428\"}},\"id\":\"7427\",\"type\":\"LinearAxis\"},{\"attributes\":{\"data\":{\"hovertext\":[[\"Alamo Square\",\"Anza Vista\",\"Bayview\",\"Bayview Heights\",\"Buena Vista Park\",\"Central Richmond\",\"Central Sunset\",\"Clarendon Heights\",\"Corona Heights\",\"Cow Hollow\",\"Croker Amazon\",\"Diamond Heights\",\"Duboce Triangle\",\"Eureka Valley/Dolores Heights\",\"Excelsior\",\"Financial District North\",\"Financial District South\",\"Forest Knolls\",\"Glen Park\",\"Golden Gate Heights\",\"Haight Ashbury\",\"Hayes Valley\",\"Hunters Point\",\"Ingleside Heights\",\"Inner Mission\",\"Inner Parkside\",\"Inner Richmond\",\"Inner Sunset\",\"Jordan Park/Laurel Heights\",\"Lake --The Presidio\",\"Lone Mountain\",\"Lower Pacific Heights\",\"Marina\",\"Merced Heights\",\"Midtown Terrace\",\"Miraloma Park\",\"Mission Bay\",\"Mission Dolores\",\"Mission Terrace\",\"Nob Hill\",\"Noe Valley\",\"North Beach\",\"North Waterfront\",\"Oceanview\",\"Outer Mission\",\"Outer Parkside\",\"Outer Sunset\",\"Pacific Heights\",\"Park North\",\"Parkside\",\"Parnassus/Ashbury Heights\",\"Portola\",\"Potrero Hill\",\"Presidio Heights\",\"Russian Hill\",\"Silver Terrace\",\"South Beach\",\"South of Market\",\"Sunnyside\",\"Telegraph Hill\",\"Twin Peaks\",\"Union Square District\",\"Van Ness/ Civic Center\",\"Visitacion Valley\",\"West Portal\",\"Western Addition\",\"Westwood Highlands\",\"Westwood Park\",\"Yerba Buena\"]],\"lat\":[{\"__ndarray__\":\"LV+X4T/lQkB1AwXeyeNCQBmto6oJ3kJAvqQxWkfdQkA1DB8RU+JCQFbxRuaR40JAlWBxOPPfQkD430p2bOBCQHEDPj+M5EJA6DBfXoDlQkA/xty1hNxCQDdxcr9D3UJAw9hCkIPiQkDxaOOIteBCQL6kMVpH3UJAjGfQ0D/lQkCMZ9DQP+VCQA2Oklfn4EJAN3Fyv0PdQkB7n6pCA+FCQMuhRbbz4UJAy6FFtvPhQkDidf2C3dxCQHiXi/hO3EJAxvmbUIjgQkCVYHE4899CQAd7E0Ny4kJAlWBxOPPfQkBxAz4/jORCQIKLFTWY5kJAXW3F/rLjQkDoMF9egOVCQIP6ljld5kJAY7SOqibcQkD430p2bOBCQOAtkKD43UJAgJ9x4UDkQkCO6QlLPOBCQDdxcr9D3UJA6DBfXoDlQkD430p2bOBCQApoImx45kJACmgibHjmQkBjtI6qJtxCQD/G3LWE3EJAnDOitDfgQkCVYHE4899CQOgwX16A5UJAvodLjjvdQkCVYHE4899CQC9uowG84UJAGa2jqgneQkB2/YLdsN1CQHEDPj+M5EJA6DBfXoDlQkAZraOqCd5CQICfceFA5EJAjGfQ0D/lQkDgLZCg+N1CQApoImx45kJAyFuufmzgQkCMZ9DQP+VCQNZz0vvG40JAvqQxWkfdQkC7RPXWwN5CQOgwX16A5UJAgy9MpgreQkDgLZCg+N1CQOgwX16A5UJA\",\"dtype\":\"float64\",\"order\":\"little\",\"shape\":[69]}],\"lon\":[{\"__ndarray__\":\"L26jAbyZXsA5mE2AYZxewPbuj/eqmV7A2NMOf02aXsC1iZP7HZxewEPKT6p9nF7AflcE/1ufXsAtlbcjnJxewHe+nxovnV7AIHu9++ObXsBDxTh/E5xewIofY+5anF7A6J/gYkWbXsAEIVnABJxewNjTDn9Nml7AL26jAbyZXsAvbqMBvJlewCWvzjEgnV7Aih9j7lqcXsAoLPGAsp1ewE6XxcTmm17ATpfFxOabXsCkU1c+y5dewDc3picsn17AzemymNiaXsB+VwT/W59ewEjdzr7ynl7AWoEhq1ufXsB3vp8aL51ewInvxKwXnV7APj+MEB6dXsAge73745tewBY1mIbhnV7Aj+TyH9KdXsAtlbcjnJxewGiR7Xw/nV7AHcnlP6SZXsC6ZvLNNptewIofY+5anF7AIHu9++ObXsAtlbcjnJxewKuy74rgmV7Aq7LviuCZXsCP5PIf0p1ewEPFOH8TnF7ABoGVQ4ucXsB+VwT/W59ewCB7vfvjm17AxjNo6J+eXsB+VwT/W59ewOzAOSNKnV7A9u6P96qZXsA4oRABh5hewHe+nxovnV7AIHu9++ObXsD27o/3qplewB3J5T+kmV7AL26jAbyZXsBoke18P51ewKuy74rgmV7ARdeFH5ycXsAvbqMBvJlewAJIbeLkml7A2NMOf02aXsAvUb01sJ1ewCB7vfvjm17A/0KPGD2dXsBoke18P51ewFNcVfZdmV7A\",\"dtype\":\"float64\",\"order\":\"little\",\"shape\":[69]}],\"marker.color\":[{\"__ndarray__\":\"SZIkSZICpkCrqqqqqq+nQM3MzMzMHKJAAAAAAAA2rUCrqqqqqhWlQEmSJEmSAqZASZIkSZICpkAAAAAAAJWhQAAAAAAAUKNASZIkSZICpkCrqqqqqhWlQAAAAAAAgJ9AAAAAAIC4pUBJkiRJkgKmQKuqqqqqr6dASZIkSZICpkAAAAAAAFCjQAAAAAAA1ptAAAAAAACnpkDNzMzMzFKkQEmSJEmSAqZASZIkSZICpkAAAAAAAHKjQAAAAAAAIKdASZIkSZICpkAAAAAAADCpQEmSJEmSAqZASZIkSZICpkBJkiRJkgKmQFVVVVVV9qNAVVVVVVX2o0BJkiRJkgKmQEmSJEmSAqZAAAAAAACsqkAAAAAAAK+kQAAAAACA1qBAVVVVVVXPpEBVVVVVVfajQM3MzMzMyqhASZIkSZICpkBJkiRJkgKmQJqZmZmZXadAzczMzMwEpkAAAAAAAASjQAAAAACAZ6dASZIkSZICpkBJkiRJkgKmQEmSJEmSAqZASZIkSZICpkBVVVVVVfajQEmSJEmSAqZAzczMzMwcokBJkiRJkgKmQEmSJEmSAqZASZIkSZICpkAAAAAAAJCrQAAAAAAAZqBASZIkSZICpkAAAAAAAKemQEmSJEmSAqZASZIkSZICpkBVVVVVVfajQEmSJEmSAqZAAAAAAACSrEAAAAAAAKejQFVVVVVV9qNAAAAAAACVoUAAAAAAAO6uQFVVVVVV9qNA\",\"dtype\":\"float64\",\"order\":\"little\",\"shape\":[69]}],\"marker.size\":[{\"__ndarray__\":\"cJyd1VTgdkAk1Xd7HVZ3QMu7p//VkmlA/23ou1d2gkDg3lCz40p8QJIjOSXCpnhA8UR6wAF7ekBhIJwN63N+QHYgjQJQXIJAC1duW7bPhEAtmqsjEfByQA42LireL3tABPQiJJZpf0DNvwdH/RGEQIsgrDxBTHhATKx878x1eEBGXRUgYX18QOcoDRF0HXRAyP/3Apx+g0Bq5HcBJvuDQEKNqFi3GHxAP5v/3Ow+dkAFP/VX/1NlQPiqSlDEDHhAfmgaicfaeECrA3m3FTuAQN85W0+CqXdAyXixJK7aeUCo3p7PEouAQBsbzgZFn3lA1YI2J6jjfUACLzpc59mAQOp1/4D+PYJAfSK5L8KmiEDjM3wxFTSBQFx/3pp8XohAcr9Bp4mxgUC9Hcljpi56QAabwse6W4BAhQqU+EOjfEAzwd8Vi/OAQA1GhppZunlANoyg6lAkf0A0VzbjjqF0QGKNxdbeS25ATpTGpG5QfkBicP8ngaN4QBWbFVByjIVAMlaax7lbd0AUODg4wwJ1QGCc43LsxYNAk1Rio9JxdECazArhG7CEQMvN+TvNGoVAb73/oN0Hg0DTKbSOXEllQMmt8u7+UIRAh+HC4SvSgUD/YX/xi4KAQLsKhXgNJIVAiyAuxmBWfUAlEBQx8j+MQEdUUCNnQnlAoAgieXXXckDJ9HfV0Cd/QF9rdMb+OHNAQN/mqKGtgEBr0ERas3iFQIOO/MStBYJA\",\"dtype\":\"float64\",\"order\":\"little\",\"shape\":[69]}]},\"selected\":{\"id\":\"7495\"},\"selection_policy\":{\"id\":\"7496\"}},\"id\":\"7056\",\"type\":\"ColumnDataSource\"},{\"attributes\":{\"axis\":{\"id\":\"7139\"},\"grid_line_color\":null,\"ticker\":null},\"id\":\"7142\",\"type\":\"Grid\"},{\"attributes\":{},\"id\":\"7352\",\"type\":\"CategoricalScale\"},{\"attributes\":{\"axis_label\":\"Year\",\"formatter\":{\"id\":\"7171\"},\"major_label_policy\":{\"id\":\"7170\"},\"ticker\":{\"id\":\"7140\"}},\"id\":\"7139\",\"type\":\"LinearAxis\"},{\"attributes\":{},\"id\":\"7433\",\"type\":\"WheelZoomTool\"},{\"attributes\":{},\"id\":\"7428\",\"type\":\"BasicTicker\"},{\"attributes\":{\"bottom_units\":\"screen\",\"fill_alpha\":0.5,\"fill_color\":\"lightgrey\",\"left_units\":\"screen\",\"level\":\"overlay\",\"line_alpha\":1.0,\"line_color\":\"black\",\"line_dash\":[4,4],\"line_width\":2,\"right_units\":\"screen\",\"syncable\":false,\"top_units\":\"screen\"},\"id\":\"7084\",\"type\":\"BoxAnnotation\"},{\"attributes\":{\"axis\":{\"id\":\"7143\"},\"dimension\":1,\"grid_line_color\":null,\"ticker\":null},\"id\":\"7146\",\"type\":\"Grid\"},{\"attributes\":{},\"id\":\"7431\",\"type\":\"SaveTool\"},{\"attributes\":{\"child\":{\"id\":\"7054\"},\"name\":\"Column08309\",\"title\":\"Welcome\"},\"id\":\"7058\",\"type\":\"Panel\"},{\"attributes\":{},\"id\":\"7174\",\"type\":\"BasicTickFormatter\"},{\"attributes\":{\"data\":{\"neighborhood\":[\"Union Square District\",\"Merced Heights\",\"Miraloma Park\",\"Pacific Heights\",\"Westwood Park\",\"Telegraph Hill\",\"Presidio Heights\",\"Cow Hollow\",\"Potrero Hill\",\"South Beach\"],\"sale_price_sqr_foot\":{\"__ndarray__\":\"JRAUMfI/jEB9IrkvwqaIQFx/3pp8XohAFZsVUHKMhUBr0ERas3iFQLsKhXgNJIVAy835O80ahUALV25bts+EQJrMCuEbsIRAya3y7v5QhEA=\",\"dtype\":\"float64\",\"order\":\"little\",\"shape\":[10]}},\"selected\":{\"id\":\"7377\"},\"selection_policy\":{\"id\":\"7399\"}},\"id\":\"7376\",\"type\":\"ColumnDataSource\"},{\"attributes\":{\"overlay\":{\"id\":\"7436\"}},\"id\":\"7434\",\"type\":\"BoxZoomTool\"},{\"attributes\":{\"axis_label\":\"Average Monthly Rent\",\"formatter\":{\"id\":\"7174\"},\"major_label_policy\":{\"id\":\"7173\"},\"ticker\":{\"id\":\"7144\"}},\"id\":\"7143\",\"type\":\"LinearAxis\"},{\"attributes\":{},\"id\":\"7435\",\"type\":\"ResetTool\"},{\"attributes\":{},\"id\":\"7144\",\"type\":\"BasicTicker\"},{\"attributes\":{\"data\":{\"sale_price_sqr_foot\":{\"__ndarray__\":\"tQKjeIIVd0Do7CdydF51QGdijk899nhAaBKk2Jo5fkDHKCTbN2KBQPETFqRSxINATx33UCbNhUA=\",\"dtype\":\"float64\",\"order\":\"little\",\"shape\":[7]},\"year\":[2010,2011,2012,2013,2014,2015,2016]},\"selected\":{\"id\":\"7229\"},\"selection_policy\":{\"id\":\"7251\"}},\"id\":\"7228\",\"type\":\"ColumnDataSource\"},{\"attributes\":{\"data\":{\"housing_units\":[372560,374507,376454,378401,380348,382295,384242],\"year\":[\"2010\",\"2011\",\"2012\",\"2013\",\"2014\",\"2015\",\"2016\"]},\"selected\":{\"id\":\"7093\"},\"selection_policy\":{\"id\":\"7115\"}},\"id\":\"7092\",\"type\":\"ColumnDataSource\"},{\"attributes\":{},\"id\":\"7149\",\"type\":\"WheelZoomTool\"},{\"attributes\":{\"line_alpha\":0.2,\"line_color\":\"#30a2da\",\"line_width\":2,\"x\":{\"field\":\"year\"},\"y\":{\"field\":\"sale_price_sqr_foot\"}},\"id\":\"7233\",\"type\":\"Line\"},{\"attributes\":{\"callback\":null,\"renderers\":[{\"id\":\"7382\"}],\"tags\":[\"hv_created\"],\"tooltips\":[[\"neighborhood\",\"@{neighborhood}\"],[\"sale_price_sqr_foot\",\"@{sale_price_sqr_foot}\"]]},\"id\":\"7346\",\"type\":\"HoverTool\"},{\"attributes\":{\"active_multi\":null,\"tools\":[{\"id\":\"7197\"},{\"id\":\"7215\"},{\"id\":\"7216\"},{\"id\":\"7217\"},{\"id\":\"7218\"},{\"id\":\"7219\"}]},\"id\":\"7221\",\"type\":\"Toolbar\"},{\"attributes\":{},\"id\":\"7147\",\"type\":\"SaveTool\"},{\"attributes\":{\"children\":[{\"id\":\"7265\"},{\"id\":\"7347\"},{\"id\":\"7411\"}],\"margin\":[0,0,0,0],\"name\":\"Column08688\"},\"id\":\"7264\",\"type\":\"Column\"},{\"attributes\":{\"factors\":[\"Union Square District\",\"Merced Heights\",\"Miraloma Park\",\"Pacific Heights\",\"Westwood Park\",\"Telegraph Hill\",\"Presidio Heights\",\"Cow Hollow\",\"Potrero Hill\",\"South Beach\"],\"tags\":[[[\"neighborhood\",\"neighborhood\",null]]]},\"id\":\"7344\",\"type\":\"FactorRange\"},{\"attributes\":{\"overlay\":{\"id\":\"7152\"}},\"id\":\"7150\",\"type\":\"BoxZoomTool\"},{\"attributes\":{\"end\":929.3801355198136,\"reset_end\":929.3801355198136,\"reset_start\":0.0,\"tags\":[[[\"sale_price_sqr_foot\",\"sale_price_sqr_foot\",null]]]},\"id\":\"7345\",\"type\":\"Range1d\"},{\"attributes\":{},\"id\":\"7151\",\"type\":\"ResetTool\"},{\"attributes\":{\"active_multi\":null,\"tools\":[{\"id\":\"7129\"},{\"id\":\"7147\"},{\"id\":\"7148\"},{\"id\":\"7149\"},{\"id\":\"7150\"},{\"id\":\"7151\"}]},\"id\":\"7153\",\"type\":\"Toolbar\"},{\"attributes\":{},\"id\":\"7115\",\"type\":\"UnionRenderers\"},{\"attributes\":{\"below\":[{\"id\":\"7356\"}],\"center\":[{\"id\":\"7358\"},{\"id\":\"7362\"}],\"height\":300,\"left\":[{\"id\":\"7359\"}],\"margin\":[5,5,5,5],\"min_border_bottom\":10,\"min_border_left\":10,\"min_border_right\":10,\"min_border_top\":10,\"renderers\":[{\"id\":\"7382\"}],\"sizing_mode\":\"fixed\",\"title\":{\"id\":\"7348\"},\"toolbar\":{\"id\":\"7369\"},\"width\":700,\"x_range\":{\"id\":\"7344\"},\"x_scale\":{\"id\":\"7352\"},\"y_range\":{\"id\":\"7345\"},\"y_scale\":{\"id\":\"7354\"}},\"id\":\"7347\",\"subtype\":\"Figure\",\"type\":\"Plot\"},{\"attributes\":{\"callback\":null,\"renderers\":[{\"id\":\"7234\"}],\"tags\":[\"hv_created\"],\"tooltips\":[[\"year\",\"@{year}\"],[\"sale_price_sqr_foot\",\"@{sale_price_sqr_foot}\"]]},\"id\":\"7197\",\"type\":\"HoverTool\"},{\"attributes\":{\"line_alpha\":0.1,\"line_color\":\"#30a2da\",\"line_width\":2,\"x\":{\"field\":\"year\"},\"y\":{\"field\":\"sale_price_sqr_foot\"}},\"id\":\"7232\",\"type\":\"Line\"},{\"attributes\":{},\"id\":\"7357\",\"type\":\"CategoricalTicker\"},{\"attributes\":{\"line_color\":\"#30a2da\",\"line_width\":2,\"x\":{\"field\":\"year\"},\"y\":{\"field\":\"sale_price_sqr_foot\"}},\"id\":\"7231\",\"type\":\"Line\"},{\"attributes\":{\"axis\":{\"id\":\"7356\"},\"grid_line_color\":null,\"ticker\":null},\"id\":\"7358\",\"type\":\"Grid\"},{\"attributes\":{},\"id\":\"7328\",\"type\":\"UnionRenderers\"},{\"attributes\":{\"active_multi\":null,\"tools\":[{\"id\":\"7062\"},{\"id\":\"7079\"},{\"id\":\"7080\"},{\"id\":\"7081\"},{\"id\":\"7082\"},{\"id\":\"7083\"}]},\"id\":\"7085\",\"type\":\"Toolbar\"},{\"attributes\":{},\"id\":\"7229\",\"type\":\"Selection\"},{\"attributes\":{},\"id\":\"7310\",\"type\":\"BasicTickFormatter\"},{\"attributes\":{\"data_source\":{\"id\":\"7228\"},\"glyph\":{\"id\":\"7231\"},\"hover_glyph\":null,\"muted_glyph\":{\"id\":\"7233\"},\"nonselection_glyph\":{\"id\":\"7232\"},\"selection_glyph\":{\"id\":\"7236\"},\"view\":{\"id\":\"7235\"}},\"id\":\"7234\",\"type\":\"GlyphRenderer\"},{\"attributes\":{\"text\":\"Average Price per Sqrft by Year\",\"text_color\":\"black\",\"text_font_size\":\"12pt\"},\"id\":\"7199\",\"type\":\"Title\"},{\"attributes\":{},\"id\":\"7354\",\"type\":\"LinearScale\"},{\"attributes\":{\"axis\":{\"id\":\"7359\"},\"dimension\":1,\"grid_line_color\":null,\"ticker\":null},\"id\":\"7362\",\"type\":\"Grid\"},{\"attributes\":{\"end\":2016.0,\"reset_end\":2016.0,\"reset_start\":2010.0,\"start\":2010.0,\"tags\":[[[\"year\",\"year\",null]]]},\"id\":\"7195\",\"type\":\"Range1d\"},{\"attributes\":{},\"id\":\"7364\",\"type\":\"PanTool\"},{\"attributes\":{\"axis_label\":\"Neighborhood\",\"formatter\":{\"id\":\"7386\"},\"major_label_orientation\":1.5707963267948966,\"major_label_policy\":{\"id\":\"7385\"},\"ticker\":{\"id\":\"7357\"}},\"id\":\"7356\",\"type\":\"CategoricalAxis\"},{\"attributes\":{\"axis_label\":\"Avg. Sales Price per Square Foot\",\"formatter\":{\"id\":\"7390\"},\"major_label_policy\":{\"id\":\"7389\"},\"ticker\":{\"id\":\"7360\"}},\"id\":\"7359\",\"type\":\"LinearAxis\"},{\"attributes\":{\"line_color\":\"#30a2da\",\"line_width\":2,\"x\":{\"field\":\"year\"},\"y\":{\"field\":\"sale_price_sqr_foot\"}},\"id\":\"7236\",\"type\":\"Line\"},{\"attributes\":{},\"id\":\"7495\",\"type\":\"Selection\"},{\"attributes\":{\"factors\":[\"2010\",\"2011\",\"2012\",\"2013\",\"2014\",\"2015\",\"2016\"],\"tags\":[[[\"year\",\"year\",null]]]},\"id\":\"7060\",\"type\":\"FactorRange\"},{\"attributes\":{\"source\":{\"id\":\"7228\"}},\"id\":\"7235\",\"type\":\"CDSView\"},{\"attributes\":{\"end\":733.2177371101801,\"reset_end\":733.2177371101801,\"reset_start\":306.3294011864627,\"start\":141.1976609302527,\"tags\":[[[\"sale_price_sqr_foot\",\"sale_price_sqr_foot\",null]]]},\"id\":\"7196\",\"type\":\"Range1d\"},{\"attributes\":{},\"id\":\"7365\",\"type\":\"WheelZoomTool\"},{\"attributes\":{},\"id\":\"7360\",\"type\":\"BasicTicker\"},{\"attributes\":{},\"id\":\"7496\",\"type\":\"UnionRenderers\"},{\"attributes\":{},\"id\":\"7093\",\"type\":\"Selection\"},{\"attributes\":{\"bottom_units\":\"screen\",\"fill_alpha\":0.5,\"fill_color\":\"lightgrey\",\"left_units\":\"screen\",\"level\":\"overlay\",\"line_alpha\":1.0,\"line_color\":\"black\",\"line_dash\":[4,4],\"line_width\":2,\"right_units\":\"screen\",\"syncable\":false,\"top_units\":\"screen\"},\"id\":\"7152\",\"type\":\"BoxAnnotation\"},{\"attributes\":{\"fill_alpha\":{\"value\":0.2},\"fill_color\":{\"value\":\"#30a2da\"},\"line_alpha\":{\"value\":0.2},\"top\":{\"field\":\"housing_units\"},\"width\":{\"value\":0.8},\"x\":{\"field\":\"year\"}},\"id\":\"7097\",\"type\":\"VBar\"},{\"attributes\":{},\"id\":\"7363\",\"type\":\"SaveTool\"},{\"attributes\":{},\"id\":\"7203\",\"type\":\"LinearScale\"},{\"attributes\":{\"overlay\":{\"id\":\"7368\"}},\"id\":\"7366\",\"type\":\"BoxZoomTool\"},{\"attributes\":{\"fill_alpha\":{\"value\":0.1},\"fill_color\":{\"value\":\"#30a2da\"},\"line_alpha\":{\"value\":0.1},\"top\":{\"field\":\"housing_units\"},\"width\":{\"value\":0.8},\"x\":{\"field\":\"year\"}},\"id\":\"7096\",\"type\":\"VBar\"},{\"attributes\":{},\"id\":\"7367\",\"type\":\"ResetTool\"},{\"attributes\":{\"below\":[{\"id\":\"7207\"}],\"center\":[{\"id\":\"7210\"},{\"id\":\"7214\"}],\"height\":300,\"left\":[{\"id\":\"7211\"}],\"margin\":[5,5,5,5],\"min_border_bottom\":10,\"min_border_left\":10,\"min_border_right\":10,\"min_border_top\":10,\"renderers\":[{\"id\":\"7234\"}],\"sizing_mode\":\"fixed\",\"title\":{\"id\":\"7199\"},\"toolbar\":{\"id\":\"7221\"},\"width\":700,\"x_range\":{\"id\":\"7195\"},\"x_scale\":{\"id\":\"7203\"},\"y_range\":{\"id\":\"7196\"},\"y_scale\":{\"id\":\"7205\"}},\"id\":\"7198\",\"subtype\":\"Figure\",\"type\":\"Plot\"},{\"attributes\":{\"data_source\":{\"id\":\"7092\"},\"glyph\":{\"id\":\"7095\"},\"hover_glyph\":null,\"muted_glyph\":{\"id\":\"7097\"},\"nonselection_glyph\":{\"id\":\"7096\"},\"selection_glyph\":{\"id\":\"7100\"},\"view\":{\"id\":\"7099\"}},\"id\":\"7098\",\"type\":\"GlyphRenderer\"},{\"attributes\":{\"active_multi\":null,\"tools\":[{\"id\":\"7346\"},{\"id\":\"7363\"},{\"id\":\"7364\"},{\"id\":\"7365\"},{\"id\":\"7366\"},{\"id\":\"7367\"}]},\"id\":\"7369\",\"type\":\"Toolbar\"},{\"attributes\":{\"source\":{\"id\":\"7092\"}},\"id\":\"7099\",\"type\":\"CDSView\"},{\"attributes\":{\"data\":{\"Variable\":[\"sale_price_sqr_foot\",\"sale_price_sqr_foot\",\"sale_price_sqr_foot\",\"sale_price_sqr_foot\",\"sale_price_sqr_foot\",\"sale_price_sqr_foot\",\"sale_price_sqr_foot\",\"gross_rent\",\"gross_rent\",\"gross_rent\",\"gross_rent\",\"gross_rent\",\"gross_rent\",\"gross_rent\"],\"value\":{\"__ndarray__\":\"DUc7WO0yckCafszcbwhxQIKRs5ot42ZAKDog0LQ8eEAVMinKGEd+QI4V5FDt0IJAVCHcmLVPdUAAAAAAAFyTQAAAAAAA6JdAAAAAAAAookAAAAAAADanQAAAAAAAkKtAAAAAAAA2rUAAAAAAACaxQA==\",\"dtype\":\"float64\",\"order\":\"little\",\"shape\":[14]},\"xoffsets\":[[\"2010\",\"sale_price_sqr_foot\"],[\"2011\",\"sale_price_sqr_foot\"],[\"2012\",\"sale_price_sqr_foot\"],[\"2013\",\"sale_price_sqr_foot\"],[\"2014\",\"sale_price_sqr_foot\"],[\"2015\",\"sale_price_sqr_foot\"],[\"2016\",\"sale_price_sqr_foot\"],[\"2010\",\"gross_rent\"],[\"2011\",\"gross_rent\"],[\"2012\",\"gross_rent\"],[\"2013\",\"gross_rent\"],[\"2014\",\"gross_rent\"],[\"2015\",\"gross_rent\"],[\"2016\",\"gross_rent\"]],\"year\":[\"2010\",\"2011\",\"2012\",\"2013\",\"2014\",\"2015\",\"2016\",\"2010\",\"2011\",\"2012\",\"2013\",\"2014\",\"2015\",\"2016\"]},\"selected\":{\"id\":\"7446\"},\"selection_policy\":{\"id\":\"7474\"}},\"id\":\"7445\",\"type\":\"ColumnDataSource\"},{\"attributes\":{},\"id\":\"7238\",\"type\":\"AllLabels\"},{\"attributes\":{\"fill_color\":{\"field\":\"Variable\",\"transform\":{\"id\":\"7444\"}},\"top\":{\"field\":\"value\"},\"width\":{\"value\":0.8},\"x\":{\"field\":\"xoffsets\"}},\"id\":\"7448\",\"type\":\"VBar\"},{\"attributes\":{},\"id\":\"7241\",\"type\":\"AllLabels\"},{\"attributes\":{},\"id\":\"7239\",\"type\":\"BasicTickFormatter\"},{\"attributes\":{\"bottom\":{\"value\":0},\"fill_alpha\":{\"value\":1.0},\"fill_color\":{\"field\":\"Variable\",\"transform\":{\"id\":\"7444\"}},\"hatch_alpha\":{\"value\":1.0},\"hatch_color\":{\"value\":\"black\"},\"hatch_scale\":{\"value\":12.0},\"hatch_weight\":{\"value\":1.0},\"line_alpha\":{\"value\":1.0},\"line_cap\":{\"value\":\"butt\"},\"line_color\":{\"value\":\"black\"},\"line_dash\":{\"value\":[]},\"line_dash_offset\":{\"value\":0},\"line_join\":{\"value\":\"bevel\"},\"line_width\":{\"value\":1},\"top\":{\"field\":\"value\"},\"width\":{\"value\":0.8},\"x\":{\"field\":\"xoffsets\"}},\"id\":\"7453\",\"type\":\"VBar\"},{\"attributes\":{\"fill_alpha\":{\"value\":0.2},\"fill_color\":{\"field\":\"Variable\",\"transform\":{\"id\":\"7444\"}},\"line_alpha\":{\"value\":0.2},\"top\":{\"field\":\"value\"},\"width\":{\"value\":0.8},\"x\":{\"field\":\"xoffsets\"}},\"id\":\"7450\",\"type\":\"VBar\"},{\"attributes\":{\"bottom_units\":\"screen\",\"fill_alpha\":0.5,\"fill_color\":\"lightgrey\",\"left_units\":\"screen\",\"level\":\"overlay\",\"line_alpha\":1.0,\"line_color\":\"black\",\"line_dash\":[4,4],\"line_width\":2,\"right_units\":\"screen\",\"syncable\":false,\"top_units\":\"screen\"},\"id\":\"7368\",\"type\":\"BoxAnnotation\"},{\"attributes\":{\"fill_alpha\":{\"value\":0.1},\"fill_color\":{\"field\":\"Variable\",\"transform\":{\"id\":\"7444\"}},\"line_alpha\":{\"value\":0.1},\"top\":{\"field\":\"value\"},\"width\":{\"value\":0.8},\"x\":{\"field\":\"xoffsets\"}},\"id\":\"7449\",\"type\":\"VBar\"},{\"attributes\":{},\"id\":\"7242\",\"type\":\"BasicTickFormatter\"},{\"attributes\":{\"children\":[{\"id\":\"7269\"},{\"id\":\"7340\"}],\"margin\":[0,0,0,0],\"name\":\"Row08666\"},\"id\":\"7265\",\"type\":\"Row\"},{\"attributes\":{\"data_source\":{\"id\":\"7445\"},\"glyph\":{\"id\":\"7448\"},\"hover_glyph\":null,\"muted_glyph\":{\"id\":\"7450\"},\"nonselection_glyph\":{\"id\":\"7449\"},\"selection_glyph\":{\"id\":\"7453\"},\"view\":{\"id\":\"7452\"}},\"id\":\"7451\",\"type\":\"GlyphRenderer\"},{\"attributes\":{},\"id\":\"7279\",\"type\":\"BasicTicker\"},{\"attributes\":{\"children\":[{\"id\":\"7341\"},{\"id\":\"7343\"}],\"margin\":[0,0,0,0],\"name\":\"Column08673\"},\"id\":\"7340\",\"type\":\"Column\"},{\"attributes\":{},\"id\":\"7287\",\"type\":\"PanTool\"},{\"attributes\":{},\"id\":\"7276\",\"type\":\"LinearScale\"},{\"attributes\":{},\"id\":\"7274\",\"type\":\"LinearScale\"},{\"attributes\":{\"end\":2016.0,\"reset_end\":2016.0,\"reset_start\":2010.0,\"start\":2010.0,\"tags\":[[[\"year\",\"year\",null]]]},\"id\":\"7266\",\"type\":\"Range1d\"},{\"attributes\":{\"axis_label\":\"Year\",\"formatter\":{\"id\":\"7310\"},\"major_label_policy\":{\"id\":\"7309\"},\"ticker\":{\"id\":\"7279\"}},\"id\":\"7278\",\"type\":\"LinearAxis\"},{\"attributes\":{},\"id\":\"7455\",\"type\":\"CategoricalTickFormatter\"},{\"attributes\":{\"callback\":null,\"renderers\":[{\"id\":\"7305\"}],\"tags\":[\"hv_created\"],\"tooltips\":[[\"year\",\"@{year}\"],[\"sale_price_sqr_foot\",\"@{sale_price_sqr_foot}\"]]},\"id\":\"7268\",\"type\":\"HoverTool\"},{\"attributes\":{\"axis\":{\"id\":\"7282\"},\"dimension\":1,\"grid_line_color\":null,\"ticker\":null},\"id\":\"7285\",\"type\":\"Grid\"},{\"attributes\":{\"children\":[{\"id\":\"7063\"},{\"id\":\"7130\"},{\"id\":\"7198\"}],\"margin\":[0,0,0,0],\"name\":\"Row08544\"},\"id\":\"7059\",\"type\":\"Row\"},{\"attributes\":{\"axis_label\":\"Average Sales Price per Square Foot\",\"formatter\":{\"id\":\"7313\"},\"major_label_policy\":{\"id\":\"7312\"},\"ticker\":{\"id\":\"7283\"}},\"id\":\"7282\",\"type\":\"LinearAxis\"},{\"attributes\":{\"axis\":{\"id\":\"7278\"},\"grid_line_color\":null,\"ticker\":null},\"id\":\"7281\",\"type\":\"Grid\"},{\"attributes\":{},\"id\":\"7283\",\"type\":\"BasicTicker\"},{\"attributes\":{\"factors\":[\"sale_price_sqr_foot\",\"gross_rent\"],\"palette\":[\"#30a2da\",\"#fc4f30\"]},\"id\":\"7444\",\"type\":\"CategoricalColorMapper\"},{\"attributes\":{},\"id\":\"7288\",\"type\":\"WheelZoomTool\"},{\"attributes\":{\"data\":{\"sale_price_sqr_foot\":{\"__ndarray__\":\"DUc7WO0yckCafszcbwhxQIKRs5ot42ZAKDog0LQ8eEAVMinKGEd+QI4V5FDt0IJAVCHcmLVPdUA=\",\"dtype\":\"float64\",\"order\":\"little\",\"shape\":[7]},\"year\":[2010,2011,2012,2013,2014,2015,2016]},\"selected\":{\"id\":\"7300\"},\"selection_policy\":{\"id\":\"7328\"}},\"id\":\"7299\",\"type\":\"ColumnDataSource\"},{\"attributes\":{},\"id\":\"7286\",\"type\":\"SaveTool\"},{\"attributes\":{\"overlay\":{\"id\":\"7291\"}},\"id\":\"7289\",\"type\":\"BoxZoomTool\"},{\"attributes\":{},\"id\":\"7290\",\"type\":\"ResetTool\"},{\"attributes\":{\"children\":[{\"id\":\"7488\"}],\"css_classes\":[\"panel-widget-box\"],\"margin\":[5,5,5,5],\"name\":\"WidgetBox08681\"},\"id\":\"7487\",\"type\":\"Column\"},{\"attributes\":{},\"id\":\"7458\",\"type\":\"AllLabels\"},{\"attributes\":{\"below\":[{\"id\":\"7278\"}],\"center\":[{\"id\":\"7281\"},{\"id\":\"7285\"}],\"height\":300,\"left\":[{\"id\":\"7282\"}],\"margin\":[5,5,5,5],\"min_border_bottom\":10,\"min_border_left\":10,\"min_border_right\":10,\"min_border_top\":10,\"renderers\":[{\"id\":\"7305\"}],\"sizing_mode\":\"fixed\",\"title\":{\"id\":\"7270\"},\"toolbar\":{\"id\":\"7292\"},\"width\":700,\"x_range\":{\"id\":\"7266\"},\"x_scale\":{\"id\":\"7274\"},\"y_range\":{\"id\":\"7196\"},\"y_scale\":{\"id\":\"7276\"}},\"id\":\"7269\",\"subtype\":\"Figure\",\"type\":\"Plot\"},{\"attributes\":{\"fill_alpha\":{\"value\":0.2},\"fill_color\":{\"value\":\"#30a2da\"},\"line_alpha\":{\"value\":0.2},\"top\":{\"field\":\"sale_price_sqr_foot\"},\"width\":{\"value\":0.8},\"x\":{\"field\":\"neighborhood\"}},\"id\":\"7381\",\"type\":\"VBar\"},{\"attributes\":{\"fill_color\":{\"value\":\"#30a2da\"},\"top\":{\"field\":\"sale_price_sqr_foot\"},\"width\":{\"value\":0.8},\"x\":{\"field\":\"neighborhood\"}},\"id\":\"7379\",\"type\":\"VBar\"},{\"attributes\":{},\"id\":\"7399\",\"type\":\"UnionRenderers\"},{\"attributes\":{},\"id\":\"7377\",\"type\":\"Selection\"},{\"attributes\":{\"fill_alpha\":{\"value\":0.1},\"fill_color\":{\"value\":\"#30a2da\"},\"line_alpha\":{\"value\":0.1},\"top\":{\"field\":\"sale_price_sqr_foot\"},\"width\":{\"value\":0.8},\"x\":{\"field\":\"neighborhood\"}},\"id\":\"7380\",\"type\":\"VBar\"},{\"attributes\":{\"data_source\":{\"id\":\"7376\"},\"glyph\":{\"id\":\"7379\"},\"hover_glyph\":null,\"muted_glyph\":{\"id\":\"7381\"},\"nonselection_glyph\":{\"id\":\"7380\"},\"selection_glyph\":{\"id\":\"7384\"},\"view\":{\"id\":\"7383\"}},\"id\":\"7382\",\"type\":\"GlyphRenderer\"},{\"attributes\":{\"source\":{\"id\":\"7445\"}},\"id\":\"7452\",\"type\":\"CDSView\"},{\"attributes\":{\"children\":[{\"id\":\"7487\"},{\"id\":\"7489\"}],\"margin\":[0,0,0,0],\"name\":\"Column08687\"},\"id\":\"7486\",\"type\":\"Column\"},{\"attributes\":{\"source\":{\"id\":\"7376\"}},\"id\":\"7383\",\"type\":\"CDSView\"},{\"attributes\":{\"bottom\":{\"value\":0},\"fill_alpha\":{\"value\":1.0},\"fill_color\":{\"value\":\"#30a2da\"},\"hatch_alpha\":{\"value\":1.0},\"hatch_color\":{\"value\":\"black\"},\"hatch_scale\":{\"value\":12.0},\"hatch_weight\":{\"value\":1.0},\"line_alpha\":{\"value\":1.0},\"line_cap\":{\"value\":\"butt\"},\"line_color\":{\"value\":\"black\"},\"line_dash\":{\"value\":[]},\"line_dash_offset\":{\"value\":0},\"line_join\":{\"value\":\"bevel\"},\"line_width\":{\"value\":1},\"top\":{\"field\":\"sale_price_sqr_foot\"},\"width\":{\"value\":0.8},\"x\":{\"field\":\"neighborhood\"}},\"id\":\"7384\",\"type\":\"VBar\"},{\"attributes\":{\"margin\":[5,5,5,5],\"name\":\"VSpacer08686\",\"sizing_mode\":\"stretch_height\"},\"id\":\"7489\",\"type\":\"Spacer\"},{\"attributes\":{},\"id\":\"7454\",\"type\":\"AllLabels\"},{\"attributes\":{},\"id\":\"7459\",\"type\":\"BasicTickFormatter\"},{\"attributes\":{\"bottom_units\":\"screen\",\"fill_alpha\":0.5,\"fill_color\":\"lightgrey\",\"left_units\":\"screen\",\"level\":\"overlay\",\"line_alpha\":1.0,\"line_color\":\"black\",\"line_dash\":[4,4],\"line_width\":2,\"right_units\":\"screen\",\"syncable\":false,\"top_units\":\"screen\"},\"id\":\"7291\",\"type\":\"BoxAnnotation\"},{\"attributes\":{\"bottom_units\":\"screen\",\"fill_alpha\":0.5,\"fill_color\":\"lightgrey\",\"left_units\":\"screen\",\"level\":\"overlay\",\"line_alpha\":1.0,\"line_color\":\"black\",\"line_dash\":[4,4],\"line_width\":2,\"right_units\":\"screen\",\"syncable\":false,\"top_units\":\"screen\"},\"id\":\"7436\",\"type\":\"BoxAnnotation\"},{\"attributes\":{\"client_comm_id\":\"e5d4127aa19e4a95849da303e6c58310\",\"comm_id\":\"8911312153ca468dba1b00af42b66a8d\",\"plot_id\":\"7053\"},\"id\":\"7928\",\"type\":\"panel.models.comm_manager.CommManager\"},{\"attributes\":{\"js_property_callbacks\":{\"change:active\":[{\"id\":\"7803\"}]},\"margin\":[0,0,0,0],\"tabs\":[{\"id\":\"7058\"},{\"id\":\"7263\"},{\"id\":\"7490\"}]},\"id\":\"7053\",\"type\":\"Tabs\"},{\"attributes\":{},\"id\":\"7386\",\"type\":\"CategoricalTickFormatter\"},{\"attributes\":{\"children\":[{\"id\":\"7055\"},{\"id\":\"7057\"}],\"margin\":[0,0,0,0],\"name\":\"Column08309\"},\"id\":\"7054\",\"type\":\"Column\"},{\"attributes\":{\"line_alpha\":0.2,\"line_color\":\"#30a2da\",\"line_width\":2,\"x\":{\"field\":\"year\"},\"y\":{\"field\":\"sale_price_sqr_foot\"}},\"id\":\"7304\",\"type\":\"Line\"},{\"attributes\":{\"css_classes\":[\"markdown\"],\"margin\":[5,5,5,5],\"name\":\"Markdown08305\",\"text\":\"&lt;p&gt;This dashboard presents a visual analysis of historical prices of house units, sale prices per square foot and gross rent in San Francisco, California from 2010 to 2016. You can navigate through the tabs above to explore more details about the evolution of the real estate market on The Golden City across these years&lt;/p&gt;\"},\"id\":\"7055\",\"type\":\"panel.models.markup.HTML\"},{\"attributes\":{\"children\":[{\"id\":\"7415\"},{\"id\":\"7486\"}],\"margin\":[0,0,0,0],\"name\":\"Row08680\"},\"id\":\"7411\",\"type\":\"Row\"},{\"attributes\":{},\"id\":\"7385\",\"type\":\"AllLabels\"},{\"attributes\":{},\"id\":\"7390\",\"type\":\"BasicTickFormatter\"},{\"attributes\":{},\"id\":\"7389\",\"type\":\"AllLabels\"},{\"attributes\":{\"text\":\"neighborhood: Alamo Square\",\"text_color\":\"black\",\"text_font_size\":\"12pt\"},\"id\":\"7270\",\"type\":\"Title\"},{\"attributes\":{\"active_multi\":null,\"tools\":[{\"id\":\"7268\"},{\"id\":\"7286\"},{\"id\":\"7287\"},{\"id\":\"7288\"},{\"id\":\"7289\"},{\"id\":\"7290\"}]},\"id\":\"7292\",\"type\":\"Toolbar\"},{\"attributes\":{},\"id\":\"7474\",\"type\":\"UnionRenderers\"},{\"attributes\":{},\"id\":\"7446\",\"type\":\"Selection\"},{\"attributes\":{\"line_alpha\":0.1,\"line_color\":\"#30a2da\",\"line_width\":2,\"x\":{\"field\":\"year\"},\"y\":{\"field\":\"sale_price_sqr_foot\"}},\"id\":\"7303\",\"type\":\"Line\"},{\"attributes\":{\"line_color\":\"#30a2da\",\"line_width\":2,\"x\":{\"field\":\"year\"},\"y\":{\"field\":\"sale_price_sqr_foot\"}},\"id\":\"7302\",\"type\":\"Line\"},{\"attributes\":{},\"id\":\"7300\",\"type\":\"Selection\"},{\"attributes\":{\"data_source\":{\"id\":\"7299\"},\"glyph\":{\"id\":\"7302\"},\"hover_glyph\":null,\"muted_glyph\":{\"id\":\"7304\"},\"nonselection_glyph\":{\"id\":\"7303\"},\"selection_glyph\":{\"id\":\"7307\"},\"view\":{\"id\":\"7306\"}},\"id\":\"7305\",\"type\":\"GlyphRenderer\"}],\"root_ids\":[\"7053\",\"7928\"]},\"title\":\"Bokeh Application\",\"version\":\"2.3.2\"}};\n",
       "    var render_items = [{\"docid\":\"9ee4cd8f-c1d8-4913-983b-1cb39b222fa9\",\"root_ids\":[\"7053\"],\"roots\":{\"7053\":\"6505eeb7-b2b2-4895-bb33-21dde7994e53\"}}];\n",
       "    root.Bokeh.embed.embed_items_notebook(docs_json, render_items);\n",
       "  }\n",
       "  if (root.Bokeh !== undefined && root.Bokeh.Panel !== undefined && ( root['Plotly'] !== undefined)) {\n",
       "    embed_document(root);\n",
       "  } else {\n",
       "    var attempts = 0;\n",
       "    var timer = setInterval(function(root) {\n",
       "      if (root.Bokeh !== undefined && root.Bokeh.Panel !== undefined && (root['Plotly'] !== undefined)) {\n",
       "        clearInterval(timer);\n",
       "        embed_document(root);\n",
       "      } else if (document.readyState == \"complete\") {\n",
       "        attempts++;\n",
       "        if (attempts > 200) {\n",
       "          clearInterval(timer);\n",
       "          console.log(\"Bokeh: ERROR: Unable to run BokehJS code because BokehJS library is missing\");\n",
       "        }\n",
       "      }\n",
       "    }, 25, root)\n",
       "  }\n",
       "})(window);</script>"
      ],
      "text/plain": [
       "Tabs\n",
       "    [0] Column\n",
       "        [0] Markdown(str)\n",
       "        [1] Plotly(Figure)\n",
       "    [1] Row\n",
       "        [0] HoloViews(Bars)\n",
       "        [1] HoloViews(Curve)\n",
       "        [2] HoloViews(Curve)\n",
       "    [2] Column\n",
       "        [0] Row\n",
       "            [0] HoloViews(DynamicMap)\n",
       "            [1] Column\n",
       "                [0] WidgetBox\n",
       "                    [0] Select(margin=(20, 20, 20, 20), name='neighborhood', options=['Alamo Square', ...], value='Alamo Square', width=250)\n",
       "                [1] VSpacer()\n",
       "        [1] HoloViews(Bars)\n",
       "        [2] Row\n",
       "            [0] HoloViews(DynamicMap)\n",
       "            [1] Column\n",
       "                [0] WidgetBox\n",
       "                    [0] Select(margin=(20, 20, 20, 20), name='neighborhood', options=['Alamo Square', ...], value='Alamo Square', width=250)\n",
       "                [1] VSpacer()"
      ]
     },
     "execution_count": 79,
     "metadata": {
      "application/vnd.holoviews_exec.v0+json": {
       "id": "7053"
      }
     },
     "output_type": "execute_result"
    }
   ],
   "source": [
    "# Serve the# dashboard\n",
    "SF_dashboard.servable()"
   ]
  },
  {
   "cell_type": "markdown",
   "metadata": {},
   "source": [
    "# Debugging\n",
    "\n",
    "Note: Some of the Plotly express plots may not render in the notebook through the panel functions.\n",
    "\n",
    "However, you can test each plot by uncommenting the following code"
   ]
  },
  {
   "cell_type": "code",
   "execution_count": null,
   "metadata": {},
   "outputs": [],
   "source": [
    "# housing_units_per_year()"
   ]
  },
  {
   "cell_type": "code",
   "execution_count": null,
   "metadata": {},
   "outputs": [],
   "source": [
    "# average_gross_rent()"
   ]
  },
  {
   "cell_type": "code",
   "execution_count": null,
   "metadata": {},
   "outputs": [],
   "source": [
    "# average_sales_price()"
   ]
  },
  {
   "cell_type": "code",
   "execution_count": null,
   "metadata": {},
   "outputs": [],
   "source": [
    "# average_price_by_neighborhood()"
   ]
  },
  {
   "cell_type": "code",
   "execution_count": null,
   "metadata": {},
   "outputs": [],
   "source": [
    "# top_most_expensive_neighborhoods()"
   ]
  },
  {
   "cell_type": "code",
   "execution_count": null,
   "metadata": {},
   "outputs": [],
   "source": [
    "# most_expensive_neighborhoods_rent_sales()"
   ]
  },
  {
   "cell_type": "code",
   "execution_count": null,
   "metadata": {},
   "outputs": [],
   "source": [
    "# neighborhood_map().show()"
   ]
  },
  {
   "cell_type": "code",
   "execution_count": null,
   "metadata": {},
   "outputs": [],
   "source": [
    "# parallel_categories()"
   ]
  },
  {
   "cell_type": "code",
   "execution_count": null,
   "metadata": {},
   "outputs": [],
   "source": [
    "# parallel_coordinates()"
   ]
  },
  {
   "cell_type": "code",
   "execution_count": null,
   "metadata": {},
   "outputs": [],
   "source": [
    "# sunburst()"
   ]
  },
  {
   "cell_type": "code",
   "execution_count": null,
   "metadata": {},
   "outputs": [],
   "source": []
  }
 ],
 "metadata": {
  "file_extension": ".py",
  "kernelspec": {
   "display_name": "Python 3",
   "language": "python",
   "name": "python3"
  },
  "language_info": {
   "codemirror_mode": {
    "name": "ipython",
    "version": 3
   },
   "file_extension": ".py",
   "mimetype": "text/x-python",
   "name": "python",
   "nbconvert_exporter": "python",
   "pygments_lexer": "ipython3",
   "version": "3.8.8"
  },
  "mimetype": "text/x-python",
  "name": "python",
  "npconvert_exporter": "python",
  "pygments_lexer": "ipython3",
  "version": 3
 },
 "nbformat": 4,
 "nbformat_minor": 4
}
